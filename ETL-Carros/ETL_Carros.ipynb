{
  "nbformat": 4,
  "nbformat_minor": 0,
  "metadata": {
    "colab": {
      "provenance": []
    },
    "kernelspec": {
      "name": "python3",
      "display_name": "Python 3"
    },
    "language_info": {
      "name": "python"
    }
  },
  "cells": [
    {
      "cell_type": "markdown",
      "source": [
        "#Proceso ETL\n",
        "\n",
        "Este es un proyecto donde se reliza un proceso de ETL a un dataset, en este caso enfocado en carros, con la finalidad de tratar los datos de forma correcta y convertirlos en Insights valiosos, con PySpark\n",
        "\n",
        "Elaborado por: Luis Felipe Sanchez Sanchez"
      ],
      "metadata": {
        "id": "ofFDp5mF5b8B"
      }
    },
    {
      "cell_type": "code",
      "execution_count": null,
      "metadata": {
        "id": "tv8xSLTm4MFe"
      },
      "outputs": [],
      "source": []
    }
  ]
}