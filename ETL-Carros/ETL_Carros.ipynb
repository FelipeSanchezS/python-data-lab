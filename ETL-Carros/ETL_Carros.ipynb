{
  "cells": [
    {
      "cell_type": "markdown",
      "metadata": {
        "id": "ofFDp5mF5b8B"
      },
      "source": [
        "#Proceso ETL\n",
        "\n",
        "Este es un proyecto donde se reliza un proceso de ETL a un dataset, en este caso enfocado en carros, con la finalidad de tratar los datos de forma correcta y convertirlos en Insights valiosos, con PySpark\n",
        "\n",
        "Elaborado por: Luis Felipe Sanchez Sanchez"
      ]
    },
    {
      "cell_type": "code",
      "execution_count": null,
      "metadata": {
        "id": "tv8xSLTm4MFe"
      },
      "outputs": [],
      "source": [
        "!pip install pyspark"
      ]
    },
    {
      "cell_type": "markdown",
      "metadata": {},
      "source": [
        "Creamos sesión en spark"
      ]
    },
    {
      "cell_type": "code",
      "execution_count": null,
      "metadata": {},
      "outputs": [],
      "source": [
        "#Iniciamos sesión en spark\n",
        "from pyspark.sql import SparkSession\n",
        "from pyspark import SparkContext\n",
        "\n",
        "Spsession = SparkSession.builder.appName(\"ETL\").getOrCreate()"
      ]
    }
  ],
  "metadata": {
    "colab": {
      "provenance": []
    },
    "kernelspec": {
      "display_name": "Python 3",
      "name": "python3"
    },
    "language_info": {
      "name": "python"
    }
  },
  "nbformat": 4,
  "nbformat_minor": 0
}
