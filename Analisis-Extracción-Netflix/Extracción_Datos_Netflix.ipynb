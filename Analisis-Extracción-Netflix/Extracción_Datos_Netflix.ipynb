{
  "cells": [
    {
      "cell_type": "markdown",
      "metadata": {
        "id": "-iZ5_u81vZys"
      },
      "source": [
        "#Extracción, exploración y analisis datos en netflix"
      ]
    },
    {
      "cell_type": "markdown",
      "metadata": {
        "id": "iJzX9rYUvhKD"
      },
      "source": [
        "Este es un proyecto a modo de autoestudio que tiene como enfasis el proceso ETL o Extract, Transform y Load; para este caso, un dataset que contiene datos de netflix con la cual se hará la manipulación de los mismos. La finalidad es poner en practica mis capacidades y adquierir nuevas destrezas.\n",
        "\n",
        "Realizado por: Luis Felipe Sanchez Sanchez\n",
        "\n",
        "[Dataset](https://www.kaggle.com/datasets/shivamb/netflix-shows?resource=download)"
      ]
    },
    {
      "cell_type": "markdown",
      "metadata": {
        "id": "3MWwfX7G1Q2Q"
      },
      "source": [
        "##Librerias y conexiones"
      ]
    },
    {
      "cell_type": "markdown",
      "metadata": {
        "id": "ZM7S5_-UwXBa"
      },
      "source": [
        "Importamos librerias"
      ]
    },
    {
      "cell_type": "code",
      "execution_count": null,
      "metadata": {
        "colab": {
          "base_uri": "https://localhost:8080/"
        },
        "id": "-lRHn0Gz2eZw",
        "outputId": "4ad5ce13-613a-433a-ddb3-536eb8580be3"
      },
      "outputs": [
        {
          "name": "stdout",
          "output_type": "stream",
          "text": [
            "Collecting mysql-connector-python\n",
            "  Downloading mysql_connector_python-9.3.0-cp311-cp311-manylinux_2_28_x86_64.whl.metadata (7.2 kB)\n",
            "Downloading mysql_connector_python-9.3.0-cp311-cp311-manylinux_2_28_x86_64.whl (33.9 MB)\n",
            "\u001b[2K   \u001b[90m━━━━━━━━━━━━━━━━━━━━━━━━━━━━━━━━━━━━━━━━\u001b[0m \u001b[32m33.9/33.9 MB\u001b[0m \u001b[31m54.3 MB/s\u001b[0m eta \u001b[36m0:00:00\u001b[0m\n",
            "\u001b[?25hInstalling collected packages: mysql-connector-python\n",
            "Successfully installed mysql-connector-python-9.3.0\n"
          ]
        }
      ],
      "source": [
        "#!pip install mysql-connector-python"
      ]
    },
    {
      "cell_type": "code",
      "execution_count": 1,
      "metadata": {
        "id": "gmYY6FKhvAfs"
      },
      "outputs": [],
      "source": [
        "import pandas as pd\n",
        "import numpy as np\n",
        "import matplotlib.pyplot as plt\n",
        "import seaborn as sns\n",
        "import mysql.connector"
      ]
    },
    {
      "cell_type": "code",
      "execution_count": null,
      "metadata": {
        "colab": {
          "base_uri": "https://localhost:8080/"
        },
        "id": "ezAdpYUYwl-5",
        "outputId": "7ce52219-f2e6-4b08-ff90-9f62a493230a"
      },
      "outputs": [
        {
          "name": "stdout",
          "output_type": "stream",
          "text": [
            "Mounted at /content/drive\n"
          ]
        }
      ],
      "source": [
        "#Conectamos google drive\n",
        "#from google.colab import drive\n",
        "#drive.mount('/content/drive')"
      ]
    },
    {
      "cell_type": "code",
      "execution_count": 3,
      "metadata": {
        "id": "baKHfNrw1cBI"
      },
      "outputs": [],
      "source": [
        "#Importamos el dataset\n",
        "df = pd.read_csv('netflix_titles.csv')"
      ]
    },
    {
      "cell_type": "code",
      "execution_count": 4,
      "metadata": {
        "colab": {
          "base_uri": "https://localhost:8080/",
          "height": 408
        },
        "id": "uTGx650oxAN4",
        "outputId": "01989eec-06c7-4ebc-99b8-9b3471e41d54"
      },
      "outputs": [
        {
          "name": "stdout",
          "output_type": "stream",
          "text": [
            "<mysql.connector.connection_cext.CMySQLConnection object at 0x00000211ECA77E00>\n"
          ]
        }
      ],
      "source": [
        "#Creamos la conexión a base de datos de mysql\n",
        "conexion = mysql.connector.connect(\n",
        "    user='root',\n",
        "    password='root',\n",
        "    host='localhost',\n",
        "    database='netflix',\n",
        "    port='3306')\n",
        "print(conexion)"
      ]
    }
  ],
  "metadata": {
    "colab": {
      "provenance": []
    },
    "kernelspec": {
      "display_name": "Python 3",
      "name": "python3"
    },
    "language_info": {
      "codemirror_mode": {
        "name": "ipython",
        "version": 3
      },
      "file_extension": ".py",
      "mimetype": "text/x-python",
      "name": "python",
      "nbconvert_exporter": "python",
      "pygments_lexer": "ipython3",
      "version": "3.13.1"
    }
  },
  "nbformat": 4,
  "nbformat_minor": 0
}
